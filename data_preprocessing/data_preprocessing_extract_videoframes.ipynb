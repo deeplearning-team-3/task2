{
 "cells": [
  {
   "cell_type": "markdown",
   "metadata": {},
   "source": [
    "# Extract all Videoframes"
   ]
  },
  {
   "cell_type": "code",
   "execution_count": 1,
   "metadata": {},
   "outputs": [],
   "source": [
    "import os\n",
    "import cv2"
   ]
  },
  {
   "cell_type": "code",
   "execution_count": 9,
   "metadata": {
    "scrolled": true
   },
   "outputs": [
    {
     "name": "stdout",
     "output_type": "stream",
     "text": [
      "Extracted frames from video 1/86\n",
      "Extracted frames from video 2/86\n",
      "Extracted frames from video 3/86\n",
      "Extracted frames from video 4/86\n",
      "Extracted frames from video 5/86\n",
      "Extracted frames from video 6/86\n",
      "Extracted frames from video 7/86\n",
      "Extracted frames from video 8/86\n",
      "Extracted frames from video 9/86\n",
      "Extracted frames from video 10/86\n",
      "Extracted frames from video 11/86\n",
      "Extracted frames from video 12/86\n",
      "Extracted frames from video 13/86\n",
      "Extracted frames from video 14/86\n",
      "Extracted frames from video 15/86\n",
      "Extracted frames from video 16/86\n",
      "Extracted frames from video 17/86\n",
      "Extracted frames from video 18/86\n",
      "Extracted frames from video 19/86\n",
      "Extracted frames from video 20/86\n",
      "Extracted frames from video 21/86\n",
      "Extracted frames from video 22/86\n",
      "Extracted frames from video 23/86\n",
      "Extracted frames from video 24/86\n",
      "Extracted frames from video 25/86\n",
      "Extracted frames from video 26/86\n",
      "Extracted frames from video 27/86\n",
      "Extracted frames from video 28/86\n",
      "Extracted frames from video 29/86\n",
      "Extracted frames from video 30/86\n",
      "Extracted frames from video 31/86\n",
      "Extracted frames from video 32/86\n",
      "Extracted frames from video 33/86\n",
      "Extracted frames from video 34/86\n",
      "Extracted frames from video 35/86\n",
      "Extracted frames from video 36/86\n",
      "Extracted frames from video 37/86\n",
      "Extracted frames from video 38/86\n",
      "Extracted frames from video 39/86\n",
      "Extracted frames from video 40/86\n",
      "Extracted frames from video 41/86\n",
      "Extracted frames from video 42/86\n",
      "Extracted frames from video 43/86\n",
      "Extracted frames from video 44/86\n",
      "Extracted frames from video 45/86\n",
      "Extracted frames from video 46/86\n",
      "Extracted frames from video 47/86\n",
      "Extracted frames from video 48/86\n",
      "Extracted frames from video 49/86\n",
      "Extracted frames from video 50/86\n",
      "Extracted frames from video 51/86\n",
      "Extracted frames from video 52/86\n",
      "Extracted frames from video 53/86\n",
      "Extracted frames from video 54/86\n",
      "Extracted frames from video 55/86\n",
      "Extracted frames from video 56/86\n",
      "Extracted frames from video 57/86\n",
      "Extracted frames from video 58/86\n",
      "Extracted frames from video 59/86\n",
      "Extracted frames from video 60/86\n",
      "Extracted frames from video 61/86\n",
      "Extracted frames from video 62/86\n",
      "Extracted frames from video 63/86\n",
      "Extracted frames from video 64/86\n",
      "Extracted frames from video 65/86\n",
      "Extracted frames from video 66/86\n",
      "Extracted frames from video 67/86\n",
      "Extracted frames from video 68/86\n",
      "Extracted frames from video 69/86\n",
      "Extracted frames from video 70/86\n",
      "Extracted frames from video 71/86\n",
      "Extracted frames from video 72/86\n",
      "Extracted frames from video 73/86\n",
      "Extracted frames from video 74/86\n",
      "Extracted frames from video 75/86\n",
      "Extracted frames from video 76/86\n",
      "Extracted frames from video 77/86\n",
      "Extracted frames from video 78/86\n",
      "Extracted frames from video 79/86\n",
      "Extracted frames from video 80/86\n",
      "Extracted frames from video 81/86\n",
      "Extracted frames from video 82/86\n",
      "Extracted frames from video 83/86\n",
      "Extracted frames from video 84/86\n",
      "Extracted frames from video 85/86\n",
      "Extracted frames from video 86/86\n"
     ]
    }
   ],
   "source": [
    "# directories\n",
    "video_directory = str('C:\\\\Users\\\\Asus\\\\OneDrive\\\\Studium\\\\Semester 7\\\\Deep Learning\\\\Projekt Videos\\\\Task 2 Test\\\\Task2_Test_videos\\\\')\n",
    "#video_directory = str('C:\\\\Users\\\\Asus\\\\Pictures\\\\Task2_Test\\\\Test\\\\')\n",
    "\n",
    "#frames_directory = str('C:\\\\Users\\\\Asus\\\\OneDrive\\\\Studium\\\\Semester 7\\\\Deep Learning\\\\Projekt Videos\\\\Task 2 Training\\\\Task 2 Training Frames\\\\')\n",
    "frames_directory = str('C:\\\\Users\\\\Asus\\\\Pictures\\\\Task2_Test_Frames\\\\')\n",
    "\n",
    "# total number of frames to go through\n",
    "total_videos = len([name for name in os.listdir(video_directory) if os.path.isfile(os.path.join(video_directory, name))])\n",
    "\n",
    "# declared variables\n",
    "frame_name=\"\"\n",
    "file_index = 0\n",
    "\n",
    "# go through every video in the video dir\n",
    "for filename in os.listdir(video_directory):\n",
    "    \n",
    "    # load current video\n",
    "    cap= cv2.VideoCapture(video_directory + filename)\n",
    "    \n",
    "    # go through all the frames in the current videos\n",
    "    while(cap.isOpened()):\n",
    "        \n",
    "        # loaf the current frame\n",
    "        ret, frame = cap.read()\n",
    "        if ret == False:\n",
    "            break\n",
    "        \n",
    "        # build the correct frame name\n",
    "        if cap.get(1) <10:\n",
    "            frame_name = filename +\"_000\" +str(cap.get(1))\n",
    "        elif cap.get(1) >= 10 and cap.get(1) <100:\n",
    "            frame_name = filename +\"_00\" +str(cap.get(1))\n",
    "        elif cap.get(1) >=100 and cap.get(1) <1000:\n",
    "            frame_name = filename +\"_0\" +str(cap.get(1))\n",
    "        elif cap.get(1) >=1000:\n",
    "            frame_name = filename +\"_\" +str(cap.get(1))\n",
    "            \n",
    "        cv2.imwrite(os.path.join(frames_directory , frame_name +'.jpg'), frame)\n",
    "    \n",
    "    # counter for current video\n",
    "    file_index += 1\n",
    "    \n",
    "    print(\"Extracted frames from video \" + str(file_index) + \"/\" + str(total_videos))\n",
    "    \n",
    "    # close all windows of the current video\n",
    "    cap.release()\n",
    "    cv2.destroyAllWindows()\n",
    "    \n",
    "    "
   ]
  },
  {
   "cell_type": "code",
   "execution_count": 10,
   "metadata": {},
   "outputs": [
    {
     "name": "stdout",
     "output_type": "stream",
     "text": [
      "86\n"
     ]
    }
   ],
   "source": [
    "#video_directory = str('C:\\\\Users\\\\Asus\\\\OneDrive\\\\Studium\\\\Semester 7\\\\Deep Learning\\\\Projekt Videos\\\\Task 2 Training\\\\\\Task 2 Training Videos')\n",
    "\n",
    "total_videos = len([name for name in os.listdir(video_directory) if os.path.isfile(os.path.join(video_directory, name))])\n",
    "\n",
    "print(total_videos)"
   ]
  }
 ],
 "metadata": {
  "kernelspec": {
   "display_name": "Python 3",
   "language": "python",
   "name": "python3"
  },
  "language_info": {
   "codemirror_mode": {
    "name": "ipython",
    "version": 3
   },
   "file_extension": ".py",
   "mimetype": "text/x-python",
   "name": "python",
   "nbconvert_exporter": "python",
   "pygments_lexer": "ipython3",
   "version": "3.8.5"
  }
 },
 "nbformat": 4,
 "nbformat_minor": 4
}
