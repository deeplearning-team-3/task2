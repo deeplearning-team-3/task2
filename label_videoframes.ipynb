{
 "cells": [
  {
   "cell_type": "markdown",
   "metadata": {},
   "source": [
    "# label all video frames"
   ]
  },
  {
   "cell_type": "code",
   "execution_count": null,
   "metadata": {},
   "outputs": [],
   "source": [
    "import csv\n",
    "import os"
   ]
  },
  {
   "cell_type": "markdown",
   "metadata": {},
   "source": [
    "### Get all frame names"
   ]
  },
  {
   "cell_type": "code",
   "execution_count": null,
   "metadata": {},
   "outputs": [],
   "source": [
    "frame_directory = str('C:\\\\Users\\\\Asus\\\\Pictures\\\\Task 2 Training Frames\\\\')\n",
    "total_frames = len([name for name in os.listdir(frame_directory) if os.path.isfile(os.path.join(frame_directory, name))])\n",
    "names = []\n",
    "index = 0\n",
    "\n",
    "# go through all frames and save the file names\n",
    "for filename in os.listdir(frame_directory):\n",
    "    \n",
    "    # add frame name to array\n",
    "    names.append(filename)\n",
    "    \n",
    "    index += 1\n",
    "    \n",
    "    print(\"processed video \" +str(index) +\"/\" +str(total_frames))\n",
    "\n",
    "print(\"Successfully filled array with frame names.\")"
   ]
  },
  {
   "cell_type": "code",
   "execution_count": null,
   "metadata": {},
   "outputs": [],
   "source": [
    "print(\"total frames: \" +str(total_frames))"
   ]
  },
  {
   "cell_type": "markdown",
   "metadata": {},
   "source": [
    "### Get list of all first waterframes"
   ]
  },
  {
   "cell_type": "code",
   "execution_count": null,
   "metadata": {},
   "outputs": [],
   "source": [
    "first_waterframes_directory = str('C:\\\\Users\\\\Asus\\\\OneDrive\\\\Studium\\\\Semester 7\\\\Deep Learning\\\\Projekt Videos\\\\Task 2 Training\\\\Task2_training_videos_labels_reduced.csv')\n",
    "\n",
    "# first waterframes\n",
    "first_waterframes = []\n",
    "\n",
    "index = 0\n",
    "frameId =\"\"\n",
    "\n",
    "# save data to list\n",
    "with open(first_waterframes_directory, newline='') as csvfile:\n",
    "    data = list(csv.reader(csvfile, delimiter=';'))\n",
    "\n",
    "print(\"Successfully saved all entries in an array\")\n",
    "\n",
    "# create first waterframes file names\n",
    "for entry in data:\n",
    "    \n",
    "    # skip the first row\n",
    "    if index > 0:\n",
    "        \n",
    "        # read current information\n",
    "        current_videoname = str(data[index][0])\n",
    "        current_first_waterframe = int(data[index][1])\n",
    "\n",
    "        # build the correct frameID\n",
    "        if current_first_waterframe <10:\n",
    "            frameId = \"_000\" + str(current_first_waterframe)\n",
    "\n",
    "        elif current_first_waterframe >= 10 and current_first_waterframe <100:\n",
    "            frameId = \"_00\" + str(current_first_waterframe)\n",
    "\n",
    "        elif current_first_waterframe >=100 and current_first_waterframe <1000:\n",
    "            frameId = \"_0\" + str(current_first_waterframe)\n",
    "\n",
    "        elif current_first_waterframe >=1000:\n",
    "            frameId = \"_\" + str(current_first_waterframe)\n",
    "            \n",
    "        current_framename = current_videoname + frameId + \".0.jpg\"\n",
    "\n",
    "\n",
    "        first_waterframes.append(current_framename)\n",
    "        \n",
    "    index += 1"
   ]
  },
  {
   "cell_type": "code",
   "execution_count": null,
   "metadata": {},
   "outputs": [],
   "source": [
    "print_index = 0\n",
    "for entry in data:\n",
    "    print(str(data[print_index][0]) +\" \" +str(data[print_index][1]))\n",
    "    print_index += 1"
   ]
  },
  {
   "cell_type": "code",
   "execution_count": null,
   "metadata": {},
   "outputs": [],
   "source": [
    "print(len(first_waterframes))"
   ]
  },
  {
   "cell_type": "markdown",
   "metadata": {},
   "source": [
    "### Label all frames"
   ]
  },
  {
   "cell_type": "code",
   "execution_count": null,
   "metadata": {},
   "outputs": [],
   "source": [
    "# creating a new .csv file\n",
    "# isAirframe:\n",
    "    # True = Airframe\n",
    "    # False = Waterframe\n",
    "with open('task2_frames_labels.csv', 'w', newline='') as outfile:\n",
    "    writer = csv.writer(outfile, delimiter=\";\")\n",
    "    writer.writerow([\"framename\", \"isAirframe\"])\n",
    "\n",
    "\n",
    "isAirframe = True\n",
    "previous_video = \"\"\n",
    "current_video = \"\"\n",
    "index = 0\n",
    "\n",
    "    \n",
    "# fuction to insert labeled frame into csv file\n",
    "def insertFrameLabel(framename, airframe):\n",
    "    with open('task2_frames_labels.csv','a', newline='') as fd:\n",
    "        writer = csv.writer(fd, delimiter=\";\")\n",
    "        writer.writerow([framename, airframe])    \n",
    "    \n",
    "# go through all frames\n",
    "for frame in names:\n",
    "    \n",
    "    current_video = frame[0:21]\n",
    "    \n",
    "    # if a new video begins, the frame is a airframe\n",
    "    if previous_video != current_video:\n",
    "        isAirframe = True\n",
    "    \n",
    "    # check if frame is a first_waterframe\n",
    "    if isAirframe:\n",
    "        for waterframe in first_waterframes:\n",
    "            if frame == waterframe:\n",
    "                isAirframe = False\n",
    "                break\n",
    "    \n",
    "    insertFrameLabel(frame, isAirframe)\n",
    "    previous_video = current_video\n",
    "    \n",
    "    index += 1\n",
    "    \n",
    "    print(\"Labeled frame \" +str(index) +\"/\" +str(total_frames))"
   ]
  }
 ],
 "metadata": {
  "kernelspec": {
   "display_name": "Python 3",
   "language": "python",
   "name": "python3"
  },
  "language_info": {
   "codemirror_mode": {
    "name": "ipython",
    "version": 3
   },
   "file_extension": ".py",
   "mimetype": "text/x-python",
   "name": "python",
   "nbconvert_exporter": "python",
   "pygments_lexer": "ipython3",
   "version": "3.8.3"
  }
 },
 "nbformat": 4,
 "nbformat_minor": 4
}
