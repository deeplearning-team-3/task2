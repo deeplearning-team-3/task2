{
 "cells": [
  {
   "cell_type": "code",
   "execution_count": null,
   "metadata": {},
   "outputs": [],
   "source": [
    "# Data Preprocessing - Colour adjustment"
   ]
  },
  {
   "cell_type": "code",
   "execution_count": null,
   "metadata": {},
   "outputs": [],
   "source": [
    "import keras\n",
    "import tensorflow\n",
    "from skimage import io\n",
    "import os\n",
    "import glob\n",
    "import numpy as np\n",
    "import random\n",
    "import matplotlib.pyplot as plt\n",
    "%matplotlib inline"
   ]
  },
  {
   "cell_type": "code",
   "execution_count": null,
   "metadata": {},
   "outputs": [],
   "source": [
    "# Importing and Loading the data into data frame\n",
    "DATASET_PATH = 'C:\\\\Users\\\\Asus\\\\Pictures\\\\labeled_frames\\\\frames\\\\'\n",
    "\n",
    "total_frames = len([name for name in os.listdir(DATASET_PATH) if os.path.isfile(os.path.join(DATASET_PATH, name))])"
   ]
  },
  {
   "cell_type": "markdown",
   "metadata": {},
   "source": [
    "### Save a single binary image"
   ]
  },
  {
   "cell_type": "code",
   "execution_count": null,
   "metadata": {},
   "outputs": [],
   "source": [
    "# build paths to current frame\n",
    "filename = '_8Vy3dlHg2w_00145.mp4_0096.0.jpg'\n",
    "FRAME_PATH = DATASET_PATH + filename\n",
    "SAVE_PATH = 'C:\\\\Users\\\\\\Asus\\\\Pictures\\\\labeled_binary_frames\\\\' + filename\n",
    "\n",
    "# load original frame\n",
    "frame = io.imread(FRAME_PATH)\n",
    "\n",
    "# create binary image with threshold value\n",
    "bin_image = frame[:, :, 0] > 250\n",
    "\n",
    "# save binary image\n",
    "io.imsave(SAVE_PATH, bin_image)"
   ]
  },
  {
   "cell_type": "markdown",
   "metadata": {},
   "source": [
    "### Create binary Images"
   ]
  },
  {
   "cell_type": "code",
   "execution_count": null,
   "metadata": {},
   "outputs": [],
   "source": [
    "index = 0\n",
    "# Iterate through all frames\n",
    "for filename in os.listdir(DATASET_PATH):\n",
    "    \n",
    "    FRAME_PATH = DATASET_PATH + filename\n",
    "    SAVE_PATH = 'C:\\\\Users\\\\\\Asus\\\\Pictures\\\\labeled_binary_frames_235\\\\' + filename\n",
    "\n",
    "    # load original frame\n",
    "    frame = io.imread(FRAME_PATH)\n",
    "\n",
    "    # create binary image with threshold value\n",
    "    bin_image = frame[:, :, 0] > 235\n",
    "    #bin_image = img_as_ubyte(bin_image)\n",
    "    \n",
    "    # save binary_image\n",
    "    io.imsave(SAVE_PATH, bin_image)\n",
    "    \n",
    "    index+=1\n",
    "    \n",
    "    print('Processed frame ' +str(index) +'/' +str(total_frames))\n",
    "    "
   ]
  }
 ],
 "metadata": {
  "kernelspec": {
   "display_name": "Python 3",
   "language": "python",
   "name": "python3"
  },
  "language_info": {
   "codemirror_mode": {
    "name": "ipython",
    "version": 3
   },
   "file_extension": ".py",
   "mimetype": "text/x-python",
   "name": "python",
   "nbconvert_exporter": "python",
   "pygments_lexer": "ipython3",
   "version": "3.8.5"
  }
 },
 "nbformat": 4,
 "nbformat_minor": 4
}
