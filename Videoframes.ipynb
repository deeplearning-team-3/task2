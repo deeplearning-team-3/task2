{
 "cells": [
  {
   "cell_type": "code",
   "execution_count": null,
   "metadata": {},
   "outputs": [],
   "source": [
    "import cv2\n",
    "import numpy as np\n",
    "import time"
   ]
  },
  {
   "cell_type": "markdown",
   "metadata": {},
   "source": [
    "# Display Video Frame by Frame"
   ]
  },
  {
   "cell_type": "code",
   "execution_count": 6,
   "metadata": {},
   "outputs": [],
   "source": [
    "# Create a VideoCapture object and read from input file\n",
    "cap = cv2.VideoCapture('C:\\\\Users\\\\Nutzer\\\\OneDrive\\\\Studium\\\\Semester 7\\\\Deep Learning\\\\Projekt Videos\\\\Task 1 Training\\\\Task1_Training_Videos\\\\_8Vy3dlHg2w_00010.mp4')\n",
    "\n",
    "# Check if file opened successfully\n",
    "if (cap.isOpened()== False): \n",
    "  print(\"Error opening file\")\n",
    "\n",
    "currentFrame = 0\n",
    "\n",
    "# Read until video is completed\n",
    "while(cap.isOpened()):\n",
    "  # Capture frame-by-frame\n",
    "  ret, frame = cap.read()\n",
    "  if ret == True:\n",
    "    \n",
    "    currentFrame +=1\n",
    "    \n",
    "    # Display the resulting frame\n",
    "    cv2.imshow('Frame',frame)\n",
    "    \n",
    "    #time.sleep(0.5)\n",
    "    \n",
    "    #print(currentFrame)\n",
    "\n",
    "    # Press Q on keyboard to  exit\n",
    "    if cv2.waitKey(25) & 0xFF == ord('q'):\n",
    "      break\n",
    "\n",
    "  # Break the loop\n",
    "  else: \n",
    "    break\n",
    "\n",
    "# When everything done, release the video capture object\n",
    "cap.release()\n",
    "\n",
    "# Closes all the frames\n",
    "cv2.destroyAllWindows()\n"
   ]
  },
  {
   "cell_type": "markdown",
   "metadata": {},
   "source": [
    "# Extract all frames from video"
   ]
  },
  {
   "cell_type": "code",
   "execution_count": 15,
   "metadata": {},
   "outputs": [],
   "source": [
    "# Opens the Video file\n",
    "cap= cv2.VideoCapture('C:\\\\Users\\\\Nutzer\\\\OneDrive\\\\Studium\\\\Semester 7\\\\Deep Learning\\\\Projekt Videos\\\\Task 1 Training\\\\Task1_Training_Videos\\\\_8Vy3dlHg2w_00017.mp4')\n",
    "i=0\n",
    "while(cap.isOpened()):\n",
    "    ret, frame = cap.read()\n",
    "    if ret == False:\n",
    "        break\n",
    "    cv2.imwrite('normal_splash_00017_'+str(i)+'.jpg',frame)\n",
    "    i+=1\n",
    " \n",
    "cap.release()\n",
    "cv2.destroyAllWindows()"
   ]
  }
 ],
 "metadata": {
  "kernelspec": {
   "display_name": "Python 3",
   "language": "python",
   "name": "python3"
  },
  "language_info": {
   "codemirror_mode": {
    "name": "ipython",
    "version": 3
   },
   "file_extension": ".py",
   "mimetype": "text/x-python",
   "name": "python",
   "nbconvert_exporter": "python",
   "pygments_lexer": "ipython3",
   "version": "3.7.9"
  }
 },
 "nbformat": 4,
 "nbformat_minor": 4
}
