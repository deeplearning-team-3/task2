{
 "cells": [
  {
   "cell_type": "markdown",
   "metadata": {},
   "source": [
    "# Extract all Videoframes"
   ]
  },
  {
   "cell_type": "code",
   "execution_count": null,
   "metadata": {},
   "outputs": [],
   "source": [
    "import os\n",
    "import cv2"
   ]
  },
  {
   "cell_type": "code",
   "execution_count": null,
   "metadata": {},
   "outputs": [],
   "source": [
    "# directories\n",
    "video_directory = str('C:\\\\Users\\\\Asus\\\\OneDrive\\\\Studium\\\\Semester 7\\\\Deep Learning\\\\Projekt Videos\\\\Task 2 Training\\\\Task 2 Training Videos\\\\')\n",
    "#frames_directory = str('C:\\\\Users\\\\Asus\\\\OneDrive\\\\Studium\\\\Semester 7\\\\Deep Learning\\\\Projekt Videos\\\\Task 2 Training\\\\Task 2 Training Frames\\\\')\n",
    "frames_directory = str('C:\\\\Users\\\\Asus\\\\Pictures\\\\Task 2 Training Frames\\\\')\n",
    "\n",
    "# total number of frames to go through\n",
    "total_videos = len([name for name in os.listdir(video_directory) if os.path.isfile(os.path.join(video_directory, name))])\n",
    "\n",
    "# declared variables\n",
    "frame_name=\"\"\n",
    "file_index = 0\n",
    "\n",
    "# go through every video in the video dir\n",
    "for filename in os.listdir(video_directory):\n",
    "    \n",
    "    # load current video\n",
    "    cap= cv2.VideoCapture(video_directory + filename)\n",
    "    \n",
    "    # go through all the frames in the current videos\n",
    "    while(cap.isOpened()):\n",
    "        \n",
    "        # loaf the current frame\n",
    "        ret, frame = cap.read()\n",
    "        if ret == False:\n",
    "            break\n",
    "        \n",
    "        # build the correct frame name\n",
    "        if cap.get(1) <10:\n",
    "            frame_name = filename +\"_000\" +str(cap.get(1))\n",
    "        elif cap.get(1) >= 10 and cap.get(1) <100:\n",
    "            frame_name = filename +\"_00\" +str(cap.get(1))\n",
    "        elif cap.get(1) >=100 and cap.get(1) <1000:\n",
    "            frame_name = filename +\"_0\" +str(cap.get(1))\n",
    "        elif cap.get(1) >=1000:\n",
    "            frame_name = filename +\"_\" +str(cap.get(1))\n",
    "            \n",
    "        cv2.imwrite(os.path.join(frames_directory , frame_name +'.jpg'), frame)\n",
    "    \n",
    "    # counter for current video\n",
    "    file_index += 1\n",
    "    \n",
    "    print(\"Extracted frames from video \" + str(file_index) + \"/\" + str(total_videos))\n",
    "    \n",
    "    # close all windows of the current video\n",
    "    cap.release()\n",
    "    cv2.destroyAllWindows()\n",
    "    \n",
    "    "
   ]
  },
  {
   "cell_type": "code",
   "execution_count": null,
   "metadata": {},
   "outputs": [],
   "source": [
    "video_directory = str('C:\\\\Users\\\\Asus\\\\OneDrive\\\\Studium\\\\Semester 7\\\\Deep Learning\\\\Projekt Videos\\\\Task 2 Training\\\\\\Task 2 Training Videos')\n",
    "\n",
    "total_videos = len([name for name in os.listdir(video_directory) if os.path.isfile(os.path.join(video_directory, name))])\n",
    "\n",
    "print(total_videos)"
   ]
  }
 ],
 "metadata": {
  "kernelspec": {
   "display_name": "Python 3",
   "language": "python",
   "name": "python3"
  },
  "language_info": {
   "codemirror_mode": {
    "name": "ipython",
    "version": 3
   },
   "file_extension": ".py",
   "mimetype": "text/x-python",
   "name": "python",
   "nbconvert_exporter": "python",
   "pygments_lexer": "ipython3",
   "version": "3.8.3"
  }
 },
 "nbformat": 4,
 "nbformat_minor": 4
}
