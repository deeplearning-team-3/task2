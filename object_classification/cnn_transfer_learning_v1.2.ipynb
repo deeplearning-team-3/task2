{
 "cells": [
  {
   "cell_type": "code",
   "execution_count": 9,
   "metadata": {},
   "outputs": [],
   "source": [
    "# Das Notebook basiert auf diesem Turoial:\n",
    "# https://www.analyticsvidhya.com/blog/2019/09/step-by-step-deep-learning-tutorial-video-classification-python/"
   ]
  },
  {
   "cell_type": "markdown",
   "metadata": {},
   "source": [
    "# Frames classification model"
   ]
  },
  {
   "cell_type": "code",
   "execution_count": 3,
   "metadata": {},
   "outputs": [],
   "source": [
    "#imports\n",
    "import keras\n",
    "from keras.models import Sequential\n",
    "from keras.applications.vgg16 import VGG16\n",
    "from keras.layers import Dense, InputLayer, Dropout, Flatten\n",
    "from keras.layers import Conv2D, MaxPooling2D, GlobalMaxPooling2D\n",
    "from keras.preprocessing import image\n",
    "import numpy as np\n",
    "import pandas as pd\n",
    "import matplotlib.pyplot as plt\n",
    "from tqdm import tqdm\n",
    "from sklearn.model_selection import train_test_split"
   ]
  },
  {
   "cell_type": "code",
   "execution_count": 4,
   "metadata": {},
   "outputs": [
    {
     "data": {
      "text/html": [
       "<div>\n",
       "<style scoped>\n",
       "    .dataframe tbody tr th:only-of-type {\n",
       "        vertical-align: middle;\n",
       "    }\n",
       "\n",
       "    .dataframe tbody tr th {\n",
       "        vertical-align: top;\n",
       "    }\n",
       "\n",
       "    .dataframe thead th {\n",
       "        text-align: right;\n",
       "    }\n",
       "</style>\n",
       "<table border=\"1\" class=\"dataframe\">\n",
       "  <thead>\n",
       "    <tr style=\"text-align: right;\">\n",
       "      <th></th>\n",
       "      <th>framename</th>\n",
       "      <th>isAirframe</th>\n",
       "    </tr>\n",
       "  </thead>\n",
       "  <tbody>\n",
       "    <tr>\n",
       "      <th>0</th>\n",
       "      <td>_8Vy3dlHg2w_00132.mp4_0001.0.jpg</td>\n",
       "      <td>True</td>\n",
       "    </tr>\n",
       "    <tr>\n",
       "      <th>1</th>\n",
       "      <td>_8Vy3dlHg2w_00132.mp4_0002.0.jpg</td>\n",
       "      <td>True</td>\n",
       "    </tr>\n",
       "    <tr>\n",
       "      <th>2</th>\n",
       "      <td>_8Vy3dlHg2w_00132.mp4_0003.0.jpg</td>\n",
       "      <td>True</td>\n",
       "    </tr>\n",
       "    <tr>\n",
       "      <th>3</th>\n",
       "      <td>_8Vy3dlHg2w_00132.mp4_0004.0.jpg</td>\n",
       "      <td>True</td>\n",
       "    </tr>\n",
       "    <tr>\n",
       "      <th>4</th>\n",
       "      <td>_8Vy3dlHg2w_00132.mp4_0005.0.jpg</td>\n",
       "      <td>True</td>\n",
       "    </tr>\n",
       "  </tbody>\n",
       "</table>\n",
       "</div>"
      ],
      "text/plain": [
       "                          framename  isAirframe\n",
       "0  _8Vy3dlHg2w_00132.mp4_0001.0.jpg        True\n",
       "1  _8Vy3dlHg2w_00132.mp4_0002.0.jpg        True\n",
       "2  _8Vy3dlHg2w_00132.mp4_0003.0.jpg        True\n",
       "3  _8Vy3dlHg2w_00132.mp4_0004.0.jpg        True\n",
       "4  _8Vy3dlHg2w_00132.mp4_0005.0.jpg        True"
      ]
     },
     "execution_count": 4,
     "metadata": {},
     "output_type": "execute_result"
    }
   ],
   "source": [
    "# read in csv with labels for training frames\n",
    "train = pd.read_csv('input/task2_training_frames_labels.csv', sep=';')\n",
    "train.head()"
   ]
  },
  {
   "cell_type": "code",
   "execution_count": null,
   "metadata": {},
   "outputs": [],
   "source": [
    "# reading in all the training frames and saving them to a numpy array\n",
    "\n",
    "# creating an empty list\n",
    "train_image = []\n",
    "\n",
    "# for loop to read and store frames\n",
    "for i in tqdm(range(train.shape[0])):\n",
    "    # loading the image using a standard image size (224, 224, 3), not the original image size\n",
    "    img = image.load_img('/home/dl3/task2_trainingFrames/'+train['framename'][i], target_size=(224, 224, 3))\n",
    "    # converting it to array\n",
    "    img = image.img_to_array(img)\n",
    "    # normalizing the pixel value\n",
    "    img = img/255\n",
    "    # appending the image to the train_image list\n",
    "    train_image.append(img)\n",
    "    \n",
    "# converting the list to numpy array\n",
    "X = np.array(train_image)\n",
    "\n",
    "# shape of the array\n",
    "X.shape"
   ]
  },
  {
   "cell_type": "code",
   "execution_count": 7,
   "metadata": {},
   "outputs": [],
   "source": [
    "# creating train and test set\n",
    "\n",
    "# separating the target\n",
    "y = train['isAirframe']\n",
    "\n",
    "# creating the training and validation set\n",
    "X_train, X_test, y_train, y_test = train_test_split(X, y, random_state=42, test_size=0.2, stratify = y)"
   ]
  },
  {
   "cell_type": "code",
   "execution_count": 8,
   "metadata": {},
   "outputs": [],
   "source": [
    "# creating dummies of target variable for train and validation set\n",
    "y_train = pd.get_dummies(y_train)\n",
    "y_test = pd.get_dummies(y_test)"
   ]
  },
  {
   "cell_type": "markdown",
   "metadata": {},
   "source": [
    "### Defining the architecture of the model"
   ]
  },
  {
   "cell_type": "code",
   "execution_count": null,
   "metadata": {},
   "outputs": [],
   "source": [
    "# creating the base model of the pre-trained VGG16 model\n",
    "base_model = VGG16(weights='imagenet', include_top=False)"
   ]
  },
  {
   "cell_type": "code",
   "execution_count": null,
   "metadata": {},
   "outputs": [],
   "source": [
    "print(base_model.summary())"
   ]
  },
  {
   "cell_type": "code",
   "execution_count": 11,
   "metadata": {},
   "outputs": [
    {
     "name": "stdout",
     "output_type": "stream",
     "text": [
      "CPU times: user 52.1 s, sys: 23.5 s, total: 1min 15s\n",
      "Wall time: 1min 3s\n"
     ]
    },
    {
     "data": {
      "text/plain": [
       "(28130, 7, 7, 512)"
      ]
     },
     "execution_count": 11,
     "metadata": {},
     "output_type": "execute_result"
    }
   ],
   "source": [
    "%%time\n",
    "# extracting features for training frames\n",
    "\n",
    "X_train = base_model.predict(X_train)\n",
    "X_train.shape"
   ]
  },
  {
   "cell_type": "code",
   "execution_count": 12,
   "metadata": {},
   "outputs": [
    {
     "name": "stdout",
     "output_type": "stream",
     "text": [
      "CPU times: user 13.6 s, sys: 5.33 s, total: 18.9 s\n",
      "Wall time: 14.9 s\n"
     ]
    },
    {
     "data": {
      "text/plain": [
       "(7033, 7, 7, 512)"
      ]
     },
     "execution_count": 12,
     "metadata": {},
     "output_type": "execute_result"
    }
   ],
   "source": [
    "%%time\n",
    "# extracting features for validation frames\n",
    "\n",
    "X_test = base_model.predict(X_test)\n",
    "X_test.shape"
   ]
  },
  {
   "cell_type": "code",
   "execution_count": 13,
   "metadata": {},
   "outputs": [],
   "source": [
    "# reshaping the training as well as validation frames in single dimension\n",
    "X_train = X_train.reshape(28130, 7*7*512)\n",
    "X_test = X_test.reshape(7033, 7*7*512)"
   ]
  },
  {
   "cell_type": "code",
   "execution_count": 14,
   "metadata": {},
   "outputs": [
    {
     "name": "stdout",
     "output_type": "stream",
     "text": [
      "CPU times: user 645 ms, sys: 260 ms, total: 905 ms\n",
      "Wall time: 925 ms\n"
     ]
    }
   ],
   "source": [
    "%%time\n",
    "# normalizing the pixel values\n",
    "\n",
    "max = X_train.max()\n",
    "X_train = X_train/max\n",
    "X_test = X_test/max"
   ]
  },
  {
   "cell_type": "code",
   "execution_count": 15,
   "metadata": {},
   "outputs": [
    {
     "data": {
      "text/plain": [
       "(28130, 25088)"
      ]
     },
     "execution_count": 15,
     "metadata": {},
     "output_type": "execute_result"
    }
   ],
   "source": [
    "# shape of images\n",
    "X_train.shape"
   ]
  },
  {
   "cell_type": "code",
   "execution_count": 16,
   "metadata": {},
   "outputs": [],
   "source": [
    "# defining the model architecture\n",
    "model = Sequential()\n",
    "model.add(Dense(1024, activation='relu', input_shape=(25088,)))\n",
    "model.add(Dropout(0.5))\n",
    "model.add(Dense(512, activation='relu'))\n",
    "model.add(Dropout(0.5))\n",
    "model.add(Dense(256, activation='relu'))\n",
    "model.add(Dropout(0.5))\n",
    "model.add(Dense(128, activation='relu'))\n",
    "model.add(Dropout(0.5))\n",
    "model.add(Dense(2, activation='softmax'))"
   ]
  },
  {
   "cell_type": "code",
   "execution_count": 17,
   "metadata": {},
   "outputs": [
    {
     "name": "stdout",
     "output_type": "stream",
     "text": [
      "Model: \"sequential\"\n",
      "_________________________________________________________________\n",
      "Layer (type)                 Output Shape              Param #   \n",
      "=================================================================\n",
      "dense (Dense)                (None, 1024)              25691136  \n",
      "_________________________________________________________________\n",
      "dropout (Dropout)            (None, 1024)              0         \n",
      "_________________________________________________________________\n",
      "dense_1 (Dense)              (None, 512)               524800    \n",
      "_________________________________________________________________\n",
      "dropout_1 (Dropout)          (None, 512)               0         \n",
      "_________________________________________________________________\n",
      "dense_2 (Dense)              (None, 256)               131328    \n",
      "_________________________________________________________________\n",
      "dropout_2 (Dropout)          (None, 256)               0         \n",
      "_________________________________________________________________\n",
      "dense_3 (Dense)              (None, 128)               32896     \n",
      "_________________________________________________________________\n",
      "dropout_3 (Dropout)          (None, 128)               0         \n",
      "_________________________________________________________________\n",
      "dense_4 (Dense)              (None, 2)                 258       \n",
      "=================================================================\n",
      "Total params: 26,380,418\n",
      "Trainable params: 26,380,418\n",
      "Non-trainable params: 0\n",
      "_________________________________________________________________\n",
      "None\n"
     ]
    }
   ],
   "source": [
    "print(model.summary())"
   ]
  },
  {
   "cell_type": "code",
   "execution_count": 18,
   "metadata": {},
   "outputs": [],
   "source": [
    "# defining a function to save the weights of best model\n",
    "from keras.callbacks import ModelCheckpoint\n",
    "mcp_save = ModelCheckpoint('weight_v1.2.hdf5', save_best_only=True, monitor='val_loss', mode='min')"
   ]
  },
  {
   "cell_type": "code",
   "execution_count": 19,
   "metadata": {},
   "outputs": [],
   "source": [
    "# compiling the model\n",
    "model.compile(loss='categorical_crossentropy',optimizer='Adam',metrics=['accuracy'])"
   ]
  },
  {
   "cell_type": "markdown",
   "metadata": {},
   "source": [
    "### Training the model"
   ]
  },
  {
   "cell_type": "code",
   "execution_count": 20,
   "metadata": {},
   "outputs": [
    {
     "name": "stdout",
     "output_type": "stream",
     "text": [
      "Epoch 1/50\n",
      "220/220 [==============================] - 3s 13ms/step - loss: 0.0822 - accuracy: 0.9678 - val_loss: 0.0279 - val_accuracy: 0.9891\n",
      "Epoch 2/50\n",
      "220/220 [==============================] - 2s 11ms/step - loss: 0.0412 - accuracy: 0.9865 - val_loss: 0.0387 - val_accuracy: 0.9876\n",
      "Epoch 3/50\n",
      "220/220 [==============================] - 5s 22ms/step - loss: 0.0323 - accuracy: 0.9886 - val_loss: 0.0233 - val_accuracy: 0.9905\n",
      "Epoch 4/50\n",
      "220/220 [==============================] - 5s 22ms/step - loss: 0.0298 - accuracy: 0.9894 - val_loss: 0.0219 - val_accuracy: 0.9923\n",
      "Epoch 5/50\n",
      "220/220 [==============================] - 5s 22ms/step - loss: 0.0266 - accuracy: 0.9897 - val_loss: 0.0206 - val_accuracy: 0.9926\n",
      "Epoch 6/50\n",
      "220/220 [==============================] - 5s 22ms/step - loss: 0.0225 - accuracy: 0.9914 - val_loss: 0.0185 - val_accuracy: 0.9930\n",
      "Epoch 7/50\n",
      "220/220 [==============================] - 2s 11ms/step - loss: 0.0238 - accuracy: 0.9911 - val_loss: 0.0228 - val_accuracy: 0.9916\n",
      "Epoch 8/50\n",
      "220/220 [==============================] - 2s 10ms/step - loss: 0.0210 - accuracy: 0.9923 - val_loss: 0.0197 - val_accuracy: 0.9923\n",
      "Epoch 9/50\n",
      "220/220 [==============================] - 2s 11ms/step - loss: 0.0205 - accuracy: 0.9927 - val_loss: 0.0213 - val_accuracy: 0.9922\n",
      "Epoch 10/50\n",
      "220/220 [==============================] - 2s 10ms/step - loss: 0.0172 - accuracy: 0.9937 - val_loss: 0.0247 - val_accuracy: 0.9906\n",
      "Epoch 11/50\n",
      "220/220 [==============================] - 2s 11ms/step - loss: 0.0168 - accuracy: 0.9932 - val_loss: 0.0192 - val_accuracy: 0.9926\n",
      "Epoch 12/50\n",
      "220/220 [==============================] - 5s 23ms/step - loss: 0.0162 - accuracy: 0.9935 - val_loss: 0.0171 - val_accuracy: 0.9927\n",
      "Epoch 13/50\n",
      "220/220 [==============================] - 2s 11ms/step - loss: 0.0167 - accuracy: 0.9939 - val_loss: 0.0197 - val_accuracy: 0.9919\n",
      "Epoch 14/50\n",
      "220/220 [==============================] - 2s 10ms/step - loss: 0.0143 - accuracy: 0.9946 - val_loss: 0.0231 - val_accuracy: 0.9925\n",
      "Epoch 15/50\n",
      "220/220 [==============================] - 5s 22ms/step - loss: 0.0143 - accuracy: 0.9950 - val_loss: 0.0166 - val_accuracy: 0.9939\n",
      "Epoch 16/50\n",
      "220/220 [==============================] - 2s 11ms/step - loss: 0.0149 - accuracy: 0.9947 - val_loss: 0.0166 - val_accuracy: 0.9937\n",
      "Epoch 17/50\n",
      "220/220 [==============================] - 2s 10ms/step - loss: 0.0143 - accuracy: 0.9947 - val_loss: 0.0206 - val_accuracy: 0.9936\n",
      "Epoch 18/50\n",
      "220/220 [==============================] - 5s 22ms/step - loss: 0.0135 - accuracy: 0.9954 - val_loss: 0.0157 - val_accuracy: 0.9943\n",
      "Epoch 19/50\n",
      "220/220 [==============================] - 2s 11ms/step - loss: 0.0135 - accuracy: 0.9954 - val_loss: 0.0170 - val_accuracy: 0.9942\n",
      "Epoch 20/50\n",
      "220/220 [==============================] - 2s 10ms/step - loss: 0.0122 - accuracy: 0.9956 - val_loss: 0.0163 - val_accuracy: 0.9942\n",
      "Epoch 21/50\n",
      "220/220 [==============================] - 2s 10ms/step - loss: 0.0125 - accuracy: 0.9956 - val_loss: 0.0159 - val_accuracy: 0.9939\n",
      "Epoch 22/50\n",
      "220/220 [==============================] - 2s 10ms/step - loss: 0.0118 - accuracy: 0.9953 - val_loss: 0.0218 - val_accuracy: 0.9936\n",
      "Epoch 23/50\n",
      "220/220 [==============================] - 2s 10ms/step - loss: 0.0104 - accuracy: 0.9961 - val_loss: 0.0170 - val_accuracy: 0.9945\n",
      "Epoch 24/50\n",
      "220/220 [==============================] - 2s 10ms/step - loss: 0.0104 - accuracy: 0.9962 - val_loss: 0.0184 - val_accuracy: 0.9929\n",
      "Epoch 25/50\n",
      "220/220 [==============================] - 2s 10ms/step - loss: 0.0117 - accuracy: 0.9961 - val_loss: 0.0212 - val_accuracy: 0.9937\n",
      "Epoch 26/50\n",
      "220/220 [==============================] - 2s 10ms/step - loss: 0.0120 - accuracy: 0.9957 - val_loss: 0.0193 - val_accuracy: 0.9932\n",
      "Epoch 27/50\n",
      "220/220 [==============================] - 2s 10ms/step - loss: 0.0113 - accuracy: 0.9955 - val_loss: 0.0215 - val_accuracy: 0.9932\n",
      "Epoch 28/50\n",
      "220/220 [==============================] - 2s 11ms/step - loss: 0.0107 - accuracy: 0.9961 - val_loss: 0.0196 - val_accuracy: 0.9939\n",
      "Epoch 29/50\n",
      "220/220 [==============================] - 2s 10ms/step - loss: 0.0098 - accuracy: 0.9963 - val_loss: 0.0186 - val_accuracy: 0.9940\n",
      "Epoch 30/50\n",
      "220/220 [==============================] - 5s 22ms/step - loss: 0.0091 - accuracy: 0.9963 - val_loss: 0.0155 - val_accuracy: 0.9939\n",
      "Epoch 31/50\n",
      "220/220 [==============================] - 5s 22ms/step - loss: 0.0114 - accuracy: 0.9962 - val_loss: 0.0151 - val_accuracy: 0.9945\n",
      "Epoch 32/50\n",
      "220/220 [==============================] - 2s 10ms/step - loss: 0.0084 - accuracy: 0.9969 - val_loss: 0.0237 - val_accuracy: 0.9939\n",
      "Epoch 33/50\n",
      "220/220 [==============================] - 2s 10ms/step - loss: 0.0117 - accuracy: 0.9962 - val_loss: 0.0167 - val_accuracy: 0.9940\n",
      "Epoch 34/50\n",
      "220/220 [==============================] - 2s 11ms/step - loss: 0.0102 - accuracy: 0.9963 - val_loss: 0.0174 - val_accuracy: 0.9936\n",
      "Epoch 35/50\n",
      "220/220 [==============================] - 2s 11ms/step - loss: 0.0081 - accuracy: 0.9970 - val_loss: 0.0216 - val_accuracy: 0.9940\n",
      "Epoch 36/50\n",
      "220/220 [==============================] - 2s 11ms/step - loss: 0.0100 - accuracy: 0.9964 - val_loss: 0.0218 - val_accuracy: 0.9943\n",
      "Epoch 37/50\n",
      "220/220 [==============================] - 2s 10ms/step - loss: 0.0077 - accuracy: 0.9972 - val_loss: 0.0195 - val_accuracy: 0.9947\n",
      "Epoch 38/50\n",
      "220/220 [==============================] - 2s 11ms/step - loss: 0.0111 - accuracy: 0.9959 - val_loss: 0.0242 - val_accuracy: 0.9937\n",
      "Epoch 39/50\n",
      "220/220 [==============================] - 2s 10ms/step - loss: 0.0127 - accuracy: 0.9960 - val_loss: 0.0275 - val_accuracy: 0.9942\n",
      "Epoch 40/50\n",
      "220/220 [==============================] - 2s 10ms/step - loss: 0.0103 - accuracy: 0.9968 - val_loss: 0.0257 - val_accuracy: 0.9942\n",
      "Epoch 41/50\n",
      "220/220 [==============================] - 2s 11ms/step - loss: 0.0088 - accuracy: 0.9968 - val_loss: 0.0209 - val_accuracy: 0.9945\n",
      "Epoch 42/50\n",
      "220/220 [==============================] - 2s 10ms/step - loss: 0.0064 - accuracy: 0.9977 - val_loss: 0.0272 - val_accuracy: 0.9932\n",
      "Epoch 43/50\n",
      "220/220 [==============================] - 2s 10ms/step - loss: 0.0078 - accuracy: 0.9975 - val_loss: 0.0179 - val_accuracy: 0.9936\n",
      "Epoch 44/50\n",
      "220/220 [==============================] - 2s 10ms/step - loss: 0.0097 - accuracy: 0.9964 - val_loss: 0.0181 - val_accuracy: 0.9939\n",
      "Epoch 45/50\n",
      "220/220 [==============================] - 2s 10ms/step - loss: 0.0092 - accuracy: 0.9968 - val_loss: 0.0220 - val_accuracy: 0.9943\n",
      "Epoch 46/50\n",
      "220/220 [==============================] - 2s 11ms/step - loss: 0.0064 - accuracy: 0.9980 - val_loss: 0.0266 - val_accuracy: 0.9942\n",
      "Epoch 47/50\n",
      "220/220 [==============================] - 3s 12ms/step - loss: 0.0075 - accuracy: 0.9976 - val_loss: 0.0176 - val_accuracy: 0.9947\n",
      "Epoch 48/50\n",
      "220/220 [==============================] - 3s 12ms/step - loss: 0.0076 - accuracy: 0.9970 - val_loss: 0.0245 - val_accuracy: 0.9942\n",
      "Epoch 49/50\n",
      "220/220 [==============================] - 2s 11ms/step - loss: 0.0081 - accuracy: 0.9968 - val_loss: 0.0283 - val_accuracy: 0.9946\n",
      "Epoch 50/50\n",
      "220/220 [==============================] - 2s 10ms/step - loss: 0.0082 - accuracy: 0.9968 - val_loss: 0.0267 - val_accuracy: 0.9950\n",
      "CPU times: user 5min 1s, sys: 59.7 s, total: 6min 1s\n",
      "Wall time: 2min 22s\n"
     ]
    }
   ],
   "source": [
    "%%time\n",
    "# training the model \n",
    "\n",
    "version_2 = model.fit(X_train, y_train, epochs=50, validation_data=(X_test, y_test), callbacks=[mcp_save], batch_size=128)"
   ]
  },
  {
   "cell_type": "code",
   "execution_count": 22,
   "metadata": {},
   "outputs": [
    {
     "data": {
      "image/png": "[encoded data removed]",
      "text/plain": [
       "<Figure size 432x288 with 1 Axes>"
      ]
     },
     "metadata": {
      "needs_background": "light"
     },
     "output_type": "display_data"
    },
    {
     "data": {
      "image/png": "[encoded data removed]",
      "text/plain": [
       "<Figure size 432x288 with 1 Axes>"
      ]
     },
     "metadata": {
      "needs_background": "light"
     },
     "output_type": "display_data"
    }
   ],
   "source": [
    "# plot training history\n",
    "#  \"Accuracy\"\n",
    "plt.plot(version_2.history['accuracy'])\n",
    "plt.plot(version_2.history['val_accuracy'])\n",
    "plt.title('model accuracy')\n",
    "plt.ylabel('accuracy')\n",
    "plt.xlabel('epoch')\n",
    "plt.legend(['train', 'validation'])\n",
    "plt.show()\n",
    "# \"Loss\"\n",
    "plt.plot(version_2.history['loss'])\n",
    "plt.plot(version_2.history['val_loss'])\n",
    "plt.title('model loss')\n",
    "plt.ylabel('loss')\n",
    "plt.xlabel('epoch')\n",
    "plt.legend(['train', 'validation'])\n",
    "plt.show()"
   ]
  },
  {
   "cell_type": "code",
   "execution_count": 23,
   "metadata": {},
   "outputs": [
    {
     "name": "stdout",
     "output_type": "stream",
     "text": [
      "880/880 [==============================] - 3s 3ms/step - loss: 0.0018 - accuracy: 0.9996\n"
     ]
    },
    {
     "data": {
      "text/plain": [
       "[0.0018455011304467916, 0.9996445178985596]"
      ]
     },
     "execution_count": 23,
     "metadata": {},
     "output_type": "execute_result"
    }
   ],
   "source": [
    "model.evaluate(X_train, y_train)"
   ]
  },
  {
   "cell_type": "code",
   "execution_count": 24,
   "metadata": {},
   "outputs": [
    {
     "data": {
      "text/plain": [
       "0.9980092644691467"
      ]
     },
     "execution_count": 24,
     "metadata": {},
     "output_type": "execute_result"
    }
   ],
   "source": [
    "acc = version_2.history['accuracy']\n",
    "np.amax(acc)"
   ]
  },
  {
   "cell_type": "code",
   "execution_count": 25,
   "metadata": {},
   "outputs": [
    {
     "name": "stdout",
     "output_type": "stream",
     "text": [
      "[INFO] evaluating network...\n",
      "              precision    recall  f1-score   support\n",
      "\n",
      "        True       0.99      0.98      0.99      1567\n",
      "       False       1.00      1.00      1.00      5466\n",
      "\n",
      "    accuracy                           1.00      7033\n",
      "   macro avg       0.99      0.99      0.99      7033\n",
      "weighted avg       1.00      1.00      1.00      7033\n",
      "\n"
     ]
    }
   ],
   "source": [
    "from sklearn.metrics import classification_report\n",
    "print(\"[INFO] evaluating network...\")\n",
    "y_test_numeric = y_test.rename(columns={\"False\": 0, \"True\": 1})\n",
    "predictions = model.predict(x=X_test, batch_size=128)\n",
    "print(classification_report(y_test_numeric.idxmax(axis=\"columns\").values,\n",
    "                            predictions.argmax(axis=1), target_names=['False', 'True']))"
   ]
  },
  {
   "cell_type": "markdown",
   "metadata": {},
   "source": [
    "# Evaluating the frames classification model"
   ]
  },
  {
   "cell_type": "markdown",
   "metadata": {},
   "source": [
    "## Defining model architecture and loading weights"
   ]
  },
  {
   "cell_type": "code",
   "execution_count": 1,
   "metadata": {},
   "outputs": [],
   "source": [
    "# imports\n",
    "from keras.models import Sequential\n",
    "from keras.layers import Dense, Dropout, Flatten\n",
    "from keras.layers import Conv2D, MaxPooling2D\n",
    "from keras.preprocessing import image\n",
    "import numpy as np\n",
    "import pandas as pd\n",
    "from tqdm import tqdm\n",
    "from keras.applications.vgg16 import VGG16\n",
    "import cv2\n",
    "import math\n",
    "import os\n",
    "from glob import glob\n",
    "from scipy import stats as s"
   ]
  },
  {
   "cell_type": "code",
   "execution_count": 2,
   "metadata": {},
   "outputs": [],
   "source": [
    "# base pretrained model\n",
    "base_model = VGG16(weights='imagenet', include_top=False)"
   ]
  },
  {
   "cell_type": "code",
   "execution_count": 3,
   "metadata": {},
   "outputs": [],
   "source": [
    "# defining the model architecture\n",
    "model = Sequential()\n",
    "model.add(Dense(1024, activation='relu', input_shape=(25088,)))\n",
    "model.add(Dropout(0.5))\n",
    "model.add(Dense(512, activation='relu'))\n",
    "model.add(Dropout(0.5))\n",
    "model.add(Dense(256, activation='relu'))\n",
    "model.add(Dropout(0.5))\n",
    "model.add(Dense(128, activation='relu'))\n",
    "model.add(Dropout(0.5))\n",
    "model.add(Dense(2, activation='softmax'))"
   ]
  },
  {
   "cell_type": "code",
   "execution_count": 4,
   "metadata": {},
   "outputs": [],
   "source": [
    "# loading the trained weights\n",
    "model.load_weights(\"weight_v1.2.hdf5\")"
   ]
  },
  {
   "cell_type": "code",
   "execution_count": 5,
   "metadata": {},
   "outputs": [],
   "source": [
    "# compiling the model\n",
    "model.compile(loss='categorical_crossentropy',optimizer='Adam',metrics=['accuracy'])"
   ]
  },
  {
   "cell_type": "markdown",
   "metadata": {},
   "source": [
    "## Generating predictions for all test frames"
   ]
  },
  {
   "cell_type": "code",
   "execution_count": 6,
   "metadata": {},
   "outputs": [],
   "source": [
    "# reading in test labels for verification later\n",
    "train = pd.read_csv('input/task2_test_frames_labels_all_videos.csv', sep=';')\n",
    "\n",
    "# creating the dummy tags\n",
    "trainLabel = pd.read_csv('input/task2_training_frames_labels.csv', sep=';')\n",
    "y = trainLabel['isAirframe']\n",
    "y = pd.get_dummies(y)"
   ]
  },
  {
   "cell_type": "code",
   "execution_count": 7,
   "metadata": {},
   "outputs": [
    {
     "name": "stdout",
     "output_type": "stream",
     "text": [
      "       False  True \n",
      "0          0      1\n",
      "1          0      1\n",
      "2          0      1\n",
      "3          0      1\n",
      "4          0      1\n",
      "...      ...    ...\n",
      "35158      1      0\n",
      "35159      1      0\n",
      "35160      1      0\n",
      "35161      1      0\n",
      "35162      1      0\n",
      "\n",
      "[35163 rows x 2 columns]\n"
     ]
    }
   ],
   "source": [
    "print(y)"
   ]
  },
  {
   "cell_type": "markdown",
   "metadata": {},
   "source": [
    "# Evaluate model by looking at frame prediction"
   ]
  },
  {
   "cell_type": "code",
   "execution_count": 8,
   "metadata": {},
   "outputs": [
    {
     "name": "stderr",
     "output_type": "stream",
     "text": [
      "100%|██████████| 11710/11710 [05:30<00:00, 35.39it/s]\n"
     ]
    }
   ],
   "source": [
    "# creating two lists to store predicted and actual tags\n",
    "predictFrame = []\n",
    "actualFrame = []  \n",
    "\n",
    "# reading actual labels from the .csv file\n",
    "train = pd.read_csv('input/task2_test_frames_labels_all_videos.csv', sep=';')\n",
    "\n",
    "# open all frames and convert to np array\n",
    "prediction_images = []\n",
    "\n",
    "# loading the images and using a standard image size (224, 224, 3)\n",
    "for i in tqdm(range(train.shape[0])):\n",
    "    framename = train['framename'][i]\n",
    "    images = glob(\"input/test_frames_all_videos/*.jpg\")\n",
    "    img = image.load_img('input/test_frames_all_videos/'+train['framename'][i], target_size=(224, 224, 3))\n",
    "    img = image.img_to_array(img)\n",
    "    img = img/225\n",
    "    prediction_images.append(img)\n",
    "    actualFrame.append(train['isAirframe'].loc[train['framename'] == framename].values[0])\n",
    "    \n",
    "# converting all the frames for a test video into numpy array\n",
    "prediction_images = np.array(prediction_images)\n",
    "    \n",
    "# extracting features using pre-trained model\n",
    "prediction_images = base_model.predict(prediction_images)\n",
    "    \n",
    "# converting features in one dimensional array\n",
    "prediction_images = prediction_images.reshape(prediction_images.shape[0], 7*7*512)\n",
    "    \n",
    "# predicting tags for each array\n",
    "#prediction = model.predict_classes(prediction_images)\n",
    "prediction = (model.predict(prediction_images) > 0.5).astype(\"int32\")\n",
    "for pre in prediction:\n",
    "    if pre[0] == 1:\n",
    "        predictFrame.append(False)\n",
    "    elif pre[1] == 1:\n",
    "        predictFrame.append(True)\n"
   ]
  },
  {
   "cell_type": "code",
   "execution_count": 9,
   "metadata": {},
   "outputs": [
    {
     "data": {
      "text/plain": [
       "97.33561058923996"
      ]
     },
     "execution_count": 9,
     "metadata": {},
     "output_type": "execute_result"
    }
   ],
   "source": [
    "# checking the accuracy of the predicted tags\n",
    "from sklearn.metrics import accuracy_score\n",
    "accuracy_score(predictFrame, actualFrame)*100"
   ]
  },
  {
   "cell_type": "code",
   "execution_count": 35,
   "metadata": {},
   "outputs": [
    {
     "data": {
      "text/plain": [
       "[True,\n",
       " True,\n",
       " True,\n",
       " True,\n",
       " True,\n",
       " True,\n",
       " True,\n",
       " True,\n",
       " True,\n",
       " True,\n",
       " True,\n",
       " True,\n",
       " True,\n",
       " True,\n",
       " True,\n",
       " True,\n",
       " True,\n",
       " True,\n",
       " True,\n",
       " True,\n",
       " True,\n",
       " True,\n",
       " True,\n",
       " True,\n",
       " True,\n",
       " True,\n",
       " True,\n",
       " True,\n",
       " True,\n",
       " True,\n",
       " True,\n",
       " True,\n",
       " True,\n",
       " True,\n",
       " True,\n",
       " True,\n",
       " True,\n",
       " True,\n",
       " True,\n",
       " True,\n",
       " True,\n",
       " True,\n",
       " True,\n",
       " True,\n",
       " True,\n",
       " True,\n",
       " True,\n",
       " True,\n",
       " True,\n",
       " True,\n",
       " True,\n",
       " True,\n",
       " True,\n",
       " True,\n",
       " True,\n",
       " True,\n",
       " True,\n",
       " True,\n",
       " True,\n",
       " True,\n",
       " True,\n",
       " True,\n",
       " True,\n",
       " True,\n",
       " True,\n",
       " True,\n",
       " True,\n",
       " True,\n",
       " True,\n",
       " True,\n",
       " True,\n",
       " True,\n",
       " True,\n",
       " True,\n",
       " True,\n",
       " True,\n",
       " True,\n",
       " True,\n",
       " True,\n",
       " True,\n",
       " True,\n",
       " True,\n",
       " True,\n",
       " True,\n",
       " True,\n",
       " True,\n",
       " True,\n",
       " True,\n",
       " True,\n",
       " True,\n",
       " True,\n",
       " True,\n",
       " True,\n",
       " True,\n",
       " True,\n",
       " True,\n",
       " True,\n",
       " True,\n",
       " True,\n",
       " True,\n",
       " True,\n",
       " True,\n",
       " True,\n",
       " True,\n",
       " True,\n",
       " True,\n",
       " True,\n",
       " True,\n",
       " True,\n",
       " True,\n",
       " True,\n",
       " True,\n",
       " True,\n",
       " True,\n",
       " True,\n",
       " True,\n",
       " True,\n",
       " True,\n",
       " True,\n",
       " True,\n",
       " True,\n",
       " True,\n",
       " True,\n",
       " True,\n",
       " True,\n",
       " True,\n",
       " True,\n",
       " True,\n",
       " True,\n",
       " False,\n",
       " False,\n",
       " False,\n",
       " False,\n",
       " False,\n",
       " False,\n",
       " False,\n",
       " False,\n",
       " False,\n",
       " False,\n",
       " False,\n",
       " False,\n",
       " False,\n",
       " False,\n",
       " False,\n",
       " False,\n",
       " False,\n",
       " False,\n",
       " False]"
      ]
     },
     "execution_count": 35,
     "metadata": {},
     "output_type": "execute_result"
    }
   ],
   "source": [
    "predictFrame"
   ]
  },
  {
   "cell_type": "code",
   "execution_count": 36,
   "metadata": {},
   "outputs": [
    {
     "data": {
      "text/plain": [
       "[True,\n",
       " True,\n",
       " True,\n",
       " True,\n",
       " True,\n",
       " True,\n",
       " True,\n",
       " True,\n",
       " True,\n",
       " True,\n",
       " True,\n",
       " True,\n",
       " True,\n",
       " True,\n",
       " True,\n",
       " True,\n",
       " True,\n",
       " True,\n",
       " True,\n",
       " True,\n",
       " True,\n",
       " True,\n",
       " True,\n",
       " True,\n",
       " True,\n",
       " True,\n",
       " True,\n",
       " True,\n",
       " True,\n",
       " True,\n",
       " True,\n",
       " True,\n",
       " True,\n",
       " True,\n",
       " True,\n",
       " True,\n",
       " True,\n",
       " True,\n",
       " True,\n",
       " True,\n",
       " True,\n",
       " True,\n",
       " True,\n",
       " True,\n",
       " True,\n",
       " True,\n",
       " True,\n",
       " True,\n",
       " True,\n",
       " True,\n",
       " True,\n",
       " True,\n",
       " True,\n",
       " True,\n",
       " True,\n",
       " True,\n",
       " True,\n",
       " True,\n",
       " True,\n",
       " True,\n",
       " True,\n",
       " True,\n",
       " True,\n",
       " True,\n",
       " True,\n",
       " True,\n",
       " True,\n",
       " True,\n",
       " True,\n",
       " True,\n",
       " True,\n",
       " True,\n",
       " True,\n",
       " True,\n",
       " True,\n",
       " True,\n",
       " True,\n",
       " True,\n",
       " True,\n",
       " True,\n",
       " True,\n",
       " True,\n",
       " True,\n",
       " True,\n",
       " True,\n",
       " True,\n",
       " True,\n",
       " True,\n",
       " True,\n",
       " True,\n",
       " True,\n",
       " True,\n",
       " True,\n",
       " True,\n",
       " True,\n",
       " True,\n",
       " True,\n",
       " True,\n",
       " True,\n",
       " True,\n",
       " True,\n",
       " True,\n",
       " True,\n",
       " True,\n",
       " True,\n",
       " True,\n",
       " True,\n",
       " True,\n",
       " True,\n",
       " True,\n",
       " True,\n",
       " True,\n",
       " True,\n",
       " True,\n",
       " True,\n",
       " True,\n",
       " True,\n",
       " True,\n",
       " True,\n",
       " True,\n",
       " True,\n",
       " True,\n",
       " True,\n",
       " True,\n",
       " True,\n",
       " True,\n",
       " True,\n",
       " True,\n",
       " True,\n",
       " True,\n",
       " False,\n",
       " False,\n",
       " False,\n",
       " False,\n",
       " False,\n",
       " False,\n",
       " False,\n",
       " False,\n",
       " False,\n",
       " False,\n",
       " False,\n",
       " False,\n",
       " False,\n",
       " False,\n",
       " False,\n",
       " False,\n",
       " False,\n",
       " False]"
      ]
     },
     "execution_count": 36,
     "metadata": {},
     "output_type": "execute_result"
    }
   ],
   "source": [
    "actualFrame"
   ]
  },
  {
   "cell_type": "code",
   "execution_count": 10,
   "metadata": {},
   "outputs": [
    {
     "name": "stdout",
     "output_type": "stream",
     "text": [
      "frame 129 False True\n",
      "frame 232 True False\n",
      "frame 349 True False\n",
      "frame 510 True False\n",
      "frame 511 True False\n",
      "frame 512 True False\n",
      "frame 513 True False\n",
      "frame 514 True False\n",
      "frame 683 True False\n",
      "frame 684 True False\n",
      "frame 850 True False\n",
      "frame 971 True False\n",
      "frame 972 True False\n",
      "frame 1094 True False\n",
      "frame 1185 True False\n",
      "frame 1186 True False\n",
      "frame 1187 True False\n",
      "frame 1311 True False\n",
      "frame 1312 True False\n",
      "frame 1492 True False\n",
      "frame 1493 True False\n",
      "frame 1494 True False\n",
      "frame 1495 True False\n",
      "frame 1558 True False\n",
      "frame 1559 True False\n",
      "frame 1560 True False\n",
      "frame 1561 True False\n",
      "frame 1562 True False\n",
      "frame 1635 True False\n",
      "frame 1636 True False\n",
      "frame 1793 True False\n",
      "frame 1794 True False\n",
      "frame 1795 True False\n",
      "frame 2066 True False\n",
      "frame 2067 True False\n",
      "frame 2068 True False\n",
      "frame 2204 True False\n",
      "frame 2274 True False\n",
      "frame 2368 True False\n",
      "frame 2369 True False\n",
      "frame 2370 True False\n",
      "frame 2371 True False\n",
      "frame 2485 True False\n",
      "frame 2627 True False\n",
      "frame 2628 True False\n",
      "frame 2629 True False\n",
      "frame 2671 True False\n",
      "frame 2672 True False\n",
      "frame 2798 True False\n",
      "frame 2799 True False\n",
      "frame 2800 True False\n",
      "frame 2801 True False\n",
      "frame 2802 True False\n",
      "frame 2803 True False\n",
      "frame 3169 True False\n",
      "frame 3170 True False\n",
      "frame 3171 True False\n",
      "frame 3254 False True\n",
      "frame 3265 False True\n",
      "frame 3266 False True\n",
      "frame 3267 False True\n",
      "frame 3268 False True\n",
      "frame 3269 False True\n",
      "frame 3270 False True\n",
      "frame 3271 False True\n",
      "frame 3272 False True\n",
      "frame 3273 False True\n",
      "frame 3419 False True\n",
      "frame 3430 False True\n",
      "frame 3431 False True\n",
      "frame 3432 False True\n",
      "frame 3433 False True\n",
      "frame 3434 False True\n",
      "frame 3435 False True\n",
      "frame 3436 False True\n",
      "frame 3437 False True\n",
      "frame 3438 False True\n",
      "frame 3476 True False\n",
      "frame 3477 True False\n",
      "frame 3479 True False\n",
      "frame 3480 True False\n",
      "frame 3482 True False\n",
      "frame 3561 True False\n",
      "frame 3712 True False\n",
      "frame 3887 False True\n",
      "frame 3972 False True\n",
      "frame 3973 False True\n",
      "frame 3974 False True\n",
      "frame 4284 True False\n",
      "frame 4285 True False\n",
      "frame 4367 True False\n",
      "frame 4368 True False\n",
      "frame 4369 True False\n",
      "frame 4370 True False\n",
      "frame 4372 True False\n",
      "frame 4425 True False\n",
      "frame 4556 True False\n",
      "frame 4557 True False\n",
      "frame 4634 True False\n",
      "frame 4635 True False\n",
      "frame 4775 True False\n",
      "frame 4913 True False\n",
      "frame 5073 True False\n",
      "frame 5197 True False\n",
      "frame 5350 True False\n",
      "frame 5351 True False\n",
      "frame 5486 True False\n",
      "frame 5643 True False\n",
      "frame 5757 True False\n",
      "frame 5758 True False\n",
      "frame 5840 True False\n",
      "frame 5841 True False\n",
      "frame 5988 True False\n",
      "frame 5989 True False\n",
      "frame 6108 False True\n",
      "frame 6109 False True\n",
      "frame 6110 False True\n",
      "frame 6111 False True\n",
      "frame 6176 True False\n",
      "frame 6177 True False\n",
      "frame 6309 True False\n",
      "frame 6310 True False\n",
      "frame 6311 True False\n",
      "frame 6312 True False\n",
      "frame 6313 True False\n",
      "frame 6375 True False\n",
      "frame 6485 True False\n",
      "frame 6892 False True\n",
      "frame 7023 True False\n",
      "frame 7190 False True\n",
      "frame 7419 True False\n",
      "frame 7582 True False\n",
      "frame 7583 True False\n",
      "frame 7717 False True\n",
      "frame 7718 False True\n",
      "frame 7719 False True\n",
      "frame 7785 True False\n",
      "frame 7936 True False\n",
      "frame 7937 True False\n",
      "frame 8034 True False\n",
      "frame 8069 True False\n",
      "frame 8070 True False\n",
      "frame 8071 True False\n",
      "frame 8072 True False\n",
      "frame 8073 True False\n",
      "frame 8074 True False\n",
      "frame 8075 True False\n",
      "frame 8076 True False\n",
      "frame 8077 True False\n",
      "frame 8078 True False\n",
      "frame 8079 True False\n",
      "frame 8080 True False\n",
      "frame 8081 True False\n",
      "frame 8082 True False\n",
      "frame 8083 True False\n",
      "frame 8084 True False\n",
      "frame 8085 True False\n",
      "frame 8086 True False\n",
      "frame 8087 True False\n",
      "frame 8088 True False\n",
      "frame 8089 True False\n",
      "frame 8090 True False\n",
      "frame 8091 True False\n",
      "frame 8092 True False\n",
      "frame 8093 True False\n",
      "frame 8094 True False\n",
      "frame 8095 True False\n",
      "frame 8096 True False\n",
      "frame 8097 True False\n",
      "frame 8098 True False\n",
      "frame 8099 True False\n",
      "frame 8100 True False\n",
      "frame 8101 True False\n",
      "frame 8102 True False\n",
      "frame 8103 True False\n",
      "frame 8104 True False\n",
      "frame 8105 True False\n",
      "frame 8106 True False\n",
      "frame 8107 True False\n",
      "frame 8108 True False\n",
      "frame 8109 True False\n",
      "frame 8110 True False\n",
      "frame 8111 True False\n",
      "frame 8112 True False\n",
      "frame 8113 True False\n",
      "frame 8114 True False\n",
      "frame 8115 True False\n",
      "frame 8116 True False\n",
      "frame 8117 True False\n",
      "frame 8118 True False\n",
      "frame 8119 True False\n",
      "frame 8120 True False\n",
      "frame 8121 True False\n",
      "frame 8122 True False\n",
      "frame 8123 True False\n",
      "frame 8124 True False\n",
      "frame 8125 True False\n",
      "frame 8126 True False\n",
      "frame 8127 True False\n",
      "frame 8128 True False\n",
      "frame 8129 True False\n",
      "frame 8130 True False\n",
      "frame 8131 True False\n",
      "frame 8132 True False\n",
      "frame 8133 True False\n",
      "frame 8134 True False\n",
      "frame 8135 True False\n",
      "frame 8136 True False\n",
      "frame 8137 True False\n",
      "frame 8138 True False\n",
      "frame 8139 True False\n",
      "frame 8140 True False\n",
      "frame 8141 True False\n",
      "frame 8142 True False\n",
      "frame 8143 True False\n",
      "frame 8144 True False\n",
      "frame 8145 True False\n",
      "frame 8146 True False\n",
      "frame 8147 True False\n",
      "frame 8148 True False\n",
      "frame 8149 True False\n",
      "frame 8150 True False\n",
      "frame 8151 True False\n",
      "frame 8152 True False\n",
      "frame 8153 True False\n",
      "frame 8154 True False\n",
      "frame 8155 True False\n",
      "frame 8156 True False\n",
      "frame 8157 True False\n",
      "frame 8158 True False\n",
      "frame 8159 True False\n",
      "frame 8160 True False\n",
      "frame 8161 True False\n",
      "frame 8162 True False\n",
      "frame 8163 True False\n",
      "frame 8164 True False\n",
      "frame 8165 True False\n",
      "frame 8166 True False\n",
      "frame 8167 True False\n",
      "frame 8168 True False\n",
      "frame 8169 True False\n",
      "frame 8262 True False\n",
      "frame 8263 True False\n",
      "frame 8264 True False\n",
      "frame 8265 True False\n",
      "frame 8410 True False\n",
      "frame 8411 True False\n",
      "frame 8412 True False\n",
      "frame 8494 True False\n",
      "frame 8579 True False\n",
      "frame 8679 True False\n",
      "frame 8752 True False\n",
      "frame 8890 True False\n",
      "frame 8891 True False\n",
      "frame 8892 True False\n",
      "frame 9009 True False\n",
      "frame 9189 True False\n",
      "frame 9493 True False\n",
      "frame 9654 True False\n",
      "frame 9655 True False\n",
      "frame 9656 True False\n",
      "frame 9657 True False\n",
      "frame 9766 True False\n",
      "frame 9767 True False\n",
      "frame 9895 False True\n",
      "frame 9981 True False\n",
      "frame 10032 True False\n",
      "frame 10033 True False\n",
      "frame 10034 True False\n",
      "frame 10035 True False\n",
      "frame 10036 True False\n",
      "frame 10037 True False\n",
      "frame 10038 True False\n",
      "frame 10046 True False\n",
      "frame 10047 True False\n",
      "frame 10048 True False\n",
      "frame 10051 True False\n",
      "frame 10052 True False\n",
      "frame 10053 True False\n",
      "frame 10054 True False\n",
      "frame 10196 True False\n",
      "frame 10271 True False\n",
      "frame 10301 True False\n",
      "frame 10302 True False\n",
      "frame 10435 True False\n",
      "frame 10514 True False\n",
      "frame 10515 True False\n",
      "frame 10678 True False\n",
      "frame 10679 True False\n",
      "frame 10755 True False\n",
      "frame 10756 True False\n",
      "frame 10757 True False\n",
      "frame 10758 True False\n",
      "frame 10759 True False\n",
      "frame 10820 False True\n",
      "frame 10882 True False\n",
      "frame 10883 True False\n",
      "frame 11024 True False\n",
      "frame 11025 True False\n",
      "frame 11026 True False\n",
      "frame 11092 True False\n",
      "frame 11094 True False\n",
      "frame 11095 True False\n",
      "frame 11096 True False\n",
      "frame 11097 True False\n",
      "frame 11098 True False\n",
      "frame 11308 False True\n",
      "frame 11562 True False\n",
      "frame 11563 True False\n",
      "frame 11690 True False\n",
      "frame 11691 True False\n",
      "frame 11692 True False\n",
      "Test Accuracy 97.34%\n"
     ]
    }
   ],
   "source": [
    "# checking predicted and actual frames labels which dont match\n",
    "count_correct = 0\n",
    "count_false = 0\n",
    "for i in range(0, len(predictFrame)):\n",
    "    if predictFrame[i] == actualFrame[i]:\n",
    "        count_correct +=1\n",
    "    else:\n",
    "        print('frame ' + str(i),predictFrame[i], actualFrame[i])\n",
    "        #print(frameName[i])\n",
    "        count_false +=1\n",
    "\n",
    "test_acc = (count_correct / (count_correct + count_false)) *100\n",
    "print('Test Accuracy {:.2f}%'.format(test_acc))"
   ]
  },
  {
   "cell_type": "code",
   "execution_count": null,
   "metadata": {},
   "outputs": [],
   "source": []
  },
  {
   "cell_type": "code",
   "execution_count": null,
   "metadata": {},
   "outputs": [],
   "source": []
  }
 ],
 "metadata": {
  "kernelspec": {
   "display_name": "Python 3",
   "language": "python",
   "name": "python3"
  },
  "language_info": {
   "codemirror_mode": {
    "name": "ipython",
    "version": 3
   },
   "file_extension": ".py",
   "mimetype": "text/x-python",
   "name": "python",
   "nbconvert_exporter": "python",
   "pygments_lexer": "ipython3",
   "version": "3.8.5"
  }
 },
 "nbformat": 4,
 "nbformat_minor": 2
}
