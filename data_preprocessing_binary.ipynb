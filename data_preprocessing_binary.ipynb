{
 "cells": [
  {
   "cell_type": "markdown",
   "metadata": {},
   "source": [
    "# Data preprocessing - Binary images"
   ]
  },
  {
   "cell_type": "code",
   "execution_count": null,
   "metadata": {},
   "outputs": [],
   "source": [
    "import sys\n",
    "import tensorflow\n",
    "from skimage import io\n",
    "from skimage import color\n",
    "from skimage import filters\n",
    "from skimage import viewer\n",
    "import os\n",
    "import glob\n",
    "import numpy as np\n",
    "import random\n",
    "import matplotlib.pyplot as plt\n",
    "%matplotlib inline"
   ]
  },
  {
   "cell_type": "code",
   "execution_count": null,
   "metadata": {},
   "outputs": [],
   "source": [
    "# Importing and Loading the data into data frame\n",
    "DATASET_PATH = 'C:\\\\Users\\\\Asus\\\\OneDrive\\\\Studium\\\\Semester 7\\\\Deep Learning\\\\Task 2 Data Preparation\\\\Colour adjustment\\\\Original frames\\\\'\n",
    "SAVE_PATH = 'C:\\\\Users\\\\Asus\\\\OneDrive\\\\Studium\\\\Semester 7\\\\Deep Learning\\\\Task 2 Data Preparation\\\\Colour adjustment\\\\Binary Images\\\\labeled_binary_frames_adaptive1.4\\\\'\n",
    "TEST_PATH = 'C:\\\\Users\\\\Asus\\\\OneDrive\\\\Studium\\\\Semester 7\\\\Deep Learning\\\\Task 2 Data Preparation\\\\Colour adjustment\\\\Test Outputs\\\\'\n",
    "\n",
    "total_frames = len([name for name in os.listdir(DATASET_PATH) if os.path.isfile(os.path.join(DATASET_PATH, name))])"
   ]
  },
  {
   "cell_type": "markdown",
   "metadata": {},
   "source": [
    "### Create a single binary image - fixed thresholding"
   ]
  },
  {
   "cell_type": "code",
   "execution_count": null,
   "metadata": {},
   "outputs": [],
   "source": [
    "# build paths to current frame\n",
    "filename = '_8Vy3dlHg2w_00145.mp4_0096.0.jpg'\n",
    "\n",
    "# load original frame\n",
    "frame = io.imread(TEST_PATH + filename)\n",
    "\n",
    "# create binary image with threshold value\n",
    "bin_image = frame[:, :, 0] > 150\n",
    "\n",
    "# save binary image\n",
    "io.imsave(SAVE_PATH + filename, bin_image)"
   ]
  },
  {
   "cell_type": "markdown",
   "metadata": {},
   "source": [
    "### Create binary images from folder - fixed thresholding"
   ]
  },
  {
   "cell_type": "code",
   "execution_count": null,
   "metadata": {},
   "outputs": [],
   "source": [
    "index = 0\n",
    "\n",
    "# Iterate through all frames\n",
    "for filename in os.listdir(DATASET_PATH):\n",
    "\n",
    "    # load original frame\n",
    "    frame = io.imread(DATASET_PATH + filename)\n",
    "\n",
    "    # create binary image with threshold value\n",
    "    bin_image = frame[:, :, 0] > 150\n",
    "    \n",
    "    # save binary_image\n",
    "    io.imsave(SAVE_PATH + filename, bin_image)\n",
    "    \n",
    "    index+=1\n",
    "    \n",
    "    print('Processed frame ' +str(index) +'/' +str(total_frames))\n",
    "    "
   ]
  },
  {
   "cell_type": "markdown",
   "metadata": {},
   "source": [
    "### Create a single binary image - adaptive thresholding"
   ]
  },
  {
   "cell_type": "code",
   "execution_count": null,
   "metadata": {},
   "outputs": [],
   "source": [
    "# build paths to current frame\n",
    "filename = '_8Vy3dlHg2w_00145.mp4_0113.0.jpg'\n",
    "\n",
    "# load original frame\n",
    "frame = io.imread(DATASET_PATH + filename)\n",
    "\n",
    "# calculate threshold\n",
    "threshold = filters.threshold_otsu(frame)*1.2\n",
    "\n",
    "if threshold > 255:\n",
    "    threshold = 255\n",
    "\n",
    "# create binary image with threshold value\n",
    "bin_image = frame[:, :, 0] > threshold\n",
    "\n",
    "# save binary image\n",
    "io.imsave(TEST_PATH + filename, bin_image)"
   ]
  },
  {
   "cell_type": "markdown",
   "metadata": {},
   "source": [
    "### Create binary images from folder - adaptive thresholding"
   ]
  },
  {
   "cell_type": "code",
   "execution_count": null,
   "metadata": {},
   "outputs": [],
   "source": [
    "index = 0\n",
    "\n",
    "# Iterate through all frames\n",
    "for filename in os.listdir(DATASET_PATH):\n",
    "\n",
    "    # load original frame\n",
    "    frame = io.imread(DATASET_PATH + filename)\n",
    "    \n",
    "    # calculate threshold\n",
    "    threshold = filters.threshold_otsu(frame)*1.2\n",
    "\n",
    "    if threshold > 255:\n",
    "        threshold = 255\n",
    "\n",
    "    # create binary image with threshold value\n",
    "    bin_image = frame[:, :, 0] > threshold\n",
    "    \n",
    "    # save binary_image\n",
    "    io.imsave(SAVE_PATH + filename, bin_image)\n",
    "    \n",
    "    index+=1\n",
    "    \n",
    "    print('Processed frame ' +str(index) +'/' +str(total_frames))"
   ]
  },
  {
   "cell_type": "markdown",
   "metadata": {},
   "source": [
    "## "
   ]
  }
 ],
 "metadata": {
  "kernelspec": {
   "display_name": "Python 3",
   "language": "python",
   "name": "python3"
  },
  "language_info": {
   "codemirror_mode": {
    "name": "ipython",
    "version": 3
   },
   "file_extension": ".py",
   "mimetype": "text/x-python",
   "name": "python",
   "nbconvert_exporter": "python",
   "pygments_lexer": "ipython3",
   "version": "3.8.5"
  }
 },
 "nbformat": 4,
 "nbformat_minor": 4
}
